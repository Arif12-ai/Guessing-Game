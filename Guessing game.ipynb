{
 "cells": [
  {
   "cell_type": "code",
   "execution_count": 20,
   "metadata": {},
   "outputs": [
    {
     "name": "stdout",
     "output_type": "stream",
     "text": [
      "Press::\n",
      "\tTo start--> 1\n",
      "\tTo stop-->2\n",
      "1\n",
      "select the level of game:\n",
      " Easy--> 1\n",
      " Medium--> 2\n",
      " Hard--> 3\n",
      "3\n",
      "Welcome to the Game of Number guessing :)\n",
      "enter your guess:10\n",
      "Try again 2\n",
      "enter your guess:13\n",
      "Try again 1\n",
      "enter your guess:17\n",
      "you loss the game\n",
      "Press::\n",
      "\tTo start--> 1\n",
      "\tTo stop-->2\n",
      "2\n"
     ]
    }
   ],
   "source": [
    "#NUmber guessing game using python.\n",
    "from random import randint\n",
    "def beg():\n",
    "    print('Press::\\n\\tTo start--> 1\\n\\tTo stop--> 2')\n",
    "    inp=int(input())\n",
    "    return inp\n",
    "def levelmaker():\n",
    "    print('select the level of game:\\n Easy--> 1\\n Medium--> 2\\n Hard--> 3')\n",
    "    level=int(input())\n",
    "    return level\n",
    "def randomGenerator(level):\n",
    "    if level==1:\n",
    "        number=randint(1,10)\n",
    "        \n",
    "    elif level==2:\n",
    "        number=randint(1,20)\n",
    "        \n",
    "    else: \n",
    "        number=randint(1,30)\n",
    "    return number\n",
    "def guessingGame(a):\n",
    "    chance=3\n",
    "    print ('Welcome to the Game of Number guessing :)' )  \n",
    "    \n",
    "    for i in range(3):\n",
    "        guess=int(input('enter your guess:'))\n",
    "        if guess==a:\n",
    "            print('\\t\\tYou won!!!')\n",
    "            break\n",
    "        else:\n",
    "            chance-=1\n",
    "            if chance==0:\n",
    "                print('\\t\\tyou loss the game')\n",
    "            else:\n",
    "                print('Try again',chance)\n",
    "\n",
    "if __name__==\"__main__\":\n",
    "    while True:\n",
    "        inp=beg()\n",
    "\n",
    "        if inp==1:\n",
    "            level=levelmaker()\n",
    "            number=randomGenerator(level)\n",
    "            guessingGame(number)\n",
    "        else:\n",
    "            break\n",
    "\n",
    "    \n"
   ]
  }
 ],
 "metadata": {
  "kernelspec": {
   "display_name": "Python 3",
   "language": "python",
   "name": "python3"
  },
  "language_info": {
   "codemirror_mode": {
    "name": "ipython",
    "version": 3
   },
   "file_extension": ".py",
   "mimetype": "text/x-python",
   "name": "python",
   "nbconvert_exporter": "python",
   "pygments_lexer": "ipython3",
   "version": "3.6.8"
  }
 },
 "nbformat": 4,
 "nbformat_minor": 2
}
